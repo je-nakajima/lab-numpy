{
 "cells": [
  {
   "cell_type": "markdown",
   "metadata": {},
   "source": [
    "# Intrduction to NumPy\n",
    "\n",
    "\n",
    "#### 1. Import NumPy under the name np."
   ]
  },
  {
   "cell_type": "code",
   "execution_count": 8,
   "metadata": {},
   "outputs": [],
   "source": [
    "# your code here\n",
    "import numpy as np"
   ]
  },
  {
   "cell_type": "markdown",
   "metadata": {},
   "source": [
    "#### 2. Print your NumPy version."
   ]
  },
  {
   "cell_type": "code",
   "execution_count": 14,
   "metadata": {},
   "outputs": [
    {
     "name": "stdout",
     "output_type": "stream",
     "text": [
      "1.19.2\n",
      "1.19.2\n"
     ]
    }
   ],
   "source": [
    "print(np.__version__)\n",
    "print(np.version.version)"
   ]
  },
  {
   "cell_type": "markdown",
   "metadata": {},
   "source": [
    "#### 3. Generate a 2x3x5 3-dimensional array with random values. Assign the array to variable *a*.\n",
    "**Challenge**: there are at least three easy ways that use numpy to generate random arrays. How many ways can you find?"
   ]
  },
  {
   "cell_type": "code",
   "execution_count": 10,
   "metadata": {},
   "outputs": [
    {
     "name": "stdout",
     "output_type": "stream",
     "text": [
      "[[[0.63275337 0.70363618 0.36494472 0.08125648 0.00172958]\n",
      "  [0.44532159 0.82984303 0.46424331 0.2819397  0.0308143 ]\n",
      "  [0.3021925  0.97464829 0.81578724 0.85813532 0.44819203]]\n",
      "\n",
      " [[0.31769871 0.98429959 0.05135566 0.80835841 0.14448005]\n",
      "  [0.66215996 0.89519625 0.28636425 0.84386699 0.68933834]\n",
      "  [0.53770407 0.70018298 0.72533817 0.5427156  0.99761317]]]\n"
     ]
    }
   ],
   "source": [
    "a = np.random.rand(2,3,5)\n",
    "print (a)"
   ]
  },
  {
   "cell_type": "code",
   "execution_count": 15,
   "metadata": {},
   "outputs": [
    {
     "name": "stdout",
     "output_type": "stream",
     "text": [
      "[[[ 0.07999883 -0.05482475  1.00190725  0.23518239  0.11619692]\n",
      "  [ 0.50394936 -1.63878305  1.33333206  0.58062948 -0.03807171]\n",
      "  [-1.09704612  0.11907384 -0.22584622 -0.37574088 -0.12229028]]\n",
      "\n",
      " [[ 1.07359581  0.06952408  0.27644188 -1.04882439  0.65288956]\n",
      "  [ 0.18887643  0.5332341   0.8976662  -1.89690192 -1.20789964]\n",
      "  [-0.31895114 -0.98592791  0.99628515  0.91212506 -0.83973831]]]\n"
     ]
    }
   ],
   "source": [
    "b = np.random.randn(2,3,5)\n",
    "print (b)\n",
    "#Difference between rand (0-1) and randn(normal distribution around the mean)"
   ]
  },
  {
   "cell_type": "code",
   "execution_count": 36,
   "metadata": {},
   "outputs": [
    {
     "name": "stdout",
     "output_type": "stream",
     "text": [
      "[[[54 10 89 98 31]\n",
      "  [57 97 66 84  7]\n",
      "  [11 24 37 63 44]]\n",
      "\n",
      " [[10 27 44 63 74]\n",
      "  [ 1 29 17 10 21]\n",
      "  [20  3 44 17 49]]]\n"
     ]
    }
   ],
   "source": [
    "c = np.random.randint(1,100,(2,3,5))\n",
    "print (c)\n",
    "#First two numbers, range from where vales are picked"
   ]
  },
  {
   "cell_type": "markdown",
   "metadata": {},
   "source": [
    "#### 4. Print *a*.\n"
   ]
  },
  {
   "cell_type": "code",
   "execution_count": 18,
   "metadata": {},
   "outputs": [
    {
     "name": "stdout",
     "output_type": "stream",
     "text": [
      "[[[0.63275337 0.70363618 0.36494472 0.08125648 0.00172958]\n",
      "  [0.44532159 0.82984303 0.46424331 0.2819397  0.0308143 ]\n",
      "  [0.3021925  0.97464829 0.81578724 0.85813532 0.44819203]]\n",
      "\n",
      " [[0.31769871 0.98429959 0.05135566 0.80835841 0.14448005]\n",
      "  [0.66215996 0.89519625 0.28636425 0.84386699 0.68933834]\n",
      "  [0.53770407 0.70018298 0.72533817 0.5427156  0.99761317]]]\n"
     ]
    }
   ],
   "source": [
    "#For fun \n",
    "print(a)\n"
   ]
  },
  {
   "cell_type": "markdown",
   "metadata": {},
   "source": [
    "#### 5. Create a 5x2x3 3-dimensional array with all values equaling 1. Assign the array to variable *b*."
   ]
  },
  {
   "cell_type": "code",
   "execution_count": 20,
   "metadata": {},
   "outputs": [
    {
     "name": "stdout",
     "output_type": "stream",
     "text": [
      "[[[1. 1. 1.]\n",
      "  [1. 1. 1.]]\n",
      "\n",
      " [[1. 1. 1.]\n",
      "  [1. 1. 1.]]\n",
      "\n",
      " [[1. 1. 1.]\n",
      "  [1. 1. 1.]]\n",
      "\n",
      " [[1. 1. 1.]\n",
      "  [1. 1. 1.]]\n",
      "\n",
      " [[1. 1. 1.]\n",
      "  [1. 1. 1.]]]\n"
     ]
    }
   ],
   "source": [
    "b= np.ones((5,2,3,))\n"
   ]
  },
  {
   "cell_type": "markdown",
   "metadata": {},
   "source": [
    "#### 6. Print *b*.\n"
   ]
  },
  {
   "cell_type": "code",
   "execution_count": 21,
   "metadata": {},
   "outputs": [
    {
     "name": "stdout",
     "output_type": "stream",
     "text": [
      "[[[1. 1. 1.]\n",
      "  [1. 1. 1.]]\n",
      "\n",
      " [[1. 1. 1.]\n",
      "  [1. 1. 1.]]\n",
      "\n",
      " [[1. 1. 1.]\n",
      "  [1. 1. 1.]]\n",
      "\n",
      " [[1. 1. 1.]\n",
      "  [1. 1. 1.]]\n",
      "\n",
      " [[1. 1. 1.]\n",
      "  [1. 1. 1.]]]\n"
     ]
    }
   ],
   "source": [
    "# your code here\n",
    "print(b)"
   ]
  },
  {
   "cell_type": "markdown",
   "metadata": {},
   "source": [
    "#### 7. Do *a* and *b* have the same size? How do you prove that in Python code?"
   ]
  },
  {
   "cell_type": "code",
   "execution_count": 24,
   "metadata": {},
   "outputs": [
    {
     "name": "stdout",
     "output_type": "stream",
     "text": [
      "30\n"
     ]
    },
    {
     "data": {
      "text/plain": [
       "True"
      ]
     },
     "execution_count": 24,
     "metadata": {},
     "output_type": "execute_result"
    }
   ],
   "source": [
    "# your code here\n",
    "print (a.size)\n",
    "a.size == b.size "
   ]
  },
  {
   "cell_type": "markdown",
   "metadata": {},
   "source": [
    "#### 8. Are you able to add *a* and *b*? Why or why not?\n"
   ]
  },
  {
   "cell_type": "code",
   "execution_count": 26,
   "metadata": {},
   "outputs": [
    {
     "ename": "ValueError",
     "evalue": "operands could not be broadcast together with shapes (2,3,5) (5,2,3) ",
     "output_type": "error",
     "traceback": [
      "\u001b[0;31m---------------------------------------------------------------------------\u001b[0m",
      "\u001b[0;31mValueError\u001b[0m                                Traceback (most recent call last)",
      "\u001b[0;32m<ipython-input-26-9209396a5c60>\u001b[0m in \u001b[0;36m<module>\u001b[0;34m\u001b[0m\n\u001b[0;32m----> 1\u001b[0;31m \u001b[0msumab\u001b[0m \u001b[0;34m=\u001b[0m \u001b[0ma\u001b[0m\u001b[0;34m+\u001b[0m\u001b[0mb\u001b[0m\u001b[0;34m\u001b[0m\u001b[0;34m\u001b[0m\u001b[0m\n\u001b[0m\u001b[1;32m      2\u001b[0m \u001b[0mpeint\u001b[0m\u001b[0;34m(\u001b[0m\u001b[0msumab\u001b[0m\u001b[0;34m)\u001b[0m\u001b[0;34m\u001b[0m\u001b[0;34m\u001b[0m\u001b[0m\n",
      "\u001b[0;31mValueError\u001b[0m: operands could not be broadcast together with shapes (2,3,5) (5,2,3) "
     ]
    }
   ],
   "source": [
    "sumab = a+b\n",
    "peint(sumab)\n",
    "#I cant add matrices of different shape "
   ]
  },
  {
   "cell_type": "markdown",
   "metadata": {},
   "source": [
    "#### 9. Transpose *b* so that it has the same structure of *a* (i.e. become a 2x3x5 array). Assign the transposed array to variable *c*."
   ]
  },
  {
   "cell_type": "code",
   "execution_count": 29,
   "metadata": {},
   "outputs": [
    {
     "name": "stdout",
     "output_type": "stream",
     "text": [
      "(2, 3, 5)\n"
     ]
    }
   ],
   "source": [
    "# your code here\n",
    "b= np.ones((5,3,2,))\n",
    "c = b.transpose()\n",
    "print(c.shape)\n"
   ]
  },
  {
   "cell_type": "markdown",
   "metadata": {},
   "source": [
    "#### 10. Try to add *a* and *c*. Now it should work. Assign the sum to variable *d*. But why does it work now?"
   ]
  },
  {
   "cell_type": "code",
   "execution_count": 30,
   "metadata": {},
   "outputs": [
    {
     "name": "stdout",
     "output_type": "stream",
     "text": [
      "[[[1.63275337 1.70363618 1.36494472 1.08125648 1.00172958]\n",
      "  [1.44532159 1.82984303 1.46424331 1.2819397  1.0308143 ]\n",
      "  [1.3021925  1.97464829 1.81578724 1.85813532 1.44819203]]\n",
      "\n",
      " [[1.31769871 1.98429959 1.05135566 1.80835841 1.14448005]\n",
      "  [1.66215996 1.89519625 1.28636425 1.84386699 1.68933834]\n",
      "  [1.53770407 1.70018298 1.72533817 1.5427156  1.99761317]]]\n"
     ]
    }
   ],
   "source": [
    "# your code/answer here\n",
    "d= a+c\n",
    "print(d)"
   ]
  },
  {
   "cell_type": "markdown",
   "metadata": {},
   "source": [
    "#### 11. Print *a* and *d*. Notice the difference and relation of the two array in terms of the values? Explain."
   ]
  },
  {
   "cell_type": "code",
   "execution_count": 31,
   "metadata": {},
   "outputs": [
    {
     "name": "stdout",
     "output_type": "stream",
     "text": [
      "[[[0.63275337 0.70363618 0.36494472 0.08125648 0.00172958]\n",
      "  [0.44532159 0.82984303 0.46424331 0.2819397  0.0308143 ]\n",
      "  [0.3021925  0.97464829 0.81578724 0.85813532 0.44819203]]\n",
      "\n",
      " [[0.31769871 0.98429959 0.05135566 0.80835841 0.14448005]\n",
      "  [0.66215996 0.89519625 0.28636425 0.84386699 0.68933834]\n",
      "  [0.53770407 0.70018298 0.72533817 0.5427156  0.99761317]]]\n",
      "[[[1.63275337 1.70363618 1.36494472 1.08125648 1.00172958]\n",
      "  [1.44532159 1.82984303 1.46424331 1.2819397  1.0308143 ]\n",
      "  [1.3021925  1.97464829 1.81578724 1.85813532 1.44819203]]\n",
      "\n",
      " [[1.31769871 1.98429959 1.05135566 1.80835841 1.14448005]\n",
      "  [1.66215996 1.89519625 1.28636425 1.84386699 1.68933834]\n",
      "  [1.53770407 1.70018298 1.72533817 1.5427156  1.99761317]]]\n"
     ]
    }
   ],
   "source": [
    "# Simple addition of the contents of each matrix\n",
    "\n",
    "print(a)\n",
    "print(d)\n"
   ]
  },
  {
   "cell_type": "markdown",
   "metadata": {},
   "source": [
    "#### 12. Multiply *a* and *c*. Assign the result to *e*."
   ]
  },
  {
   "cell_type": "code",
   "execution_count": 32,
   "metadata": {},
   "outputs": [
    {
     "name": "stdout",
     "output_type": "stream",
     "text": [
      "[[[0.63275337 0.70363618 0.36494472 0.08125648 0.00172958]\n",
      "  [0.44532159 0.82984303 0.46424331 0.2819397  0.0308143 ]\n",
      "  [0.3021925  0.97464829 0.81578724 0.85813532 0.44819203]]\n",
      "\n",
      " [[0.31769871 0.98429959 0.05135566 0.80835841 0.14448005]\n",
      "  [0.66215996 0.89519625 0.28636425 0.84386699 0.68933834]\n",
      "  [0.53770407 0.70018298 0.72533817 0.5427156  0.99761317]]]\n"
     ]
    }
   ],
   "source": [
    "# your code here\n",
    "e = a * c \n",
    "print(e)"
   ]
  },
  {
   "cell_type": "markdown",
   "metadata": {},
   "source": [
    "#### 13. Does *e* equal to *a*? Why or why not?\n"
   ]
  },
  {
   "cell_type": "code",
   "execution_count": 33,
   "metadata": {},
   "outputs": [
    {
     "data": {
      "text/plain": [
       "array([[[ True,  True,  True,  True,  True],\n",
       "        [ True,  True,  True,  True,  True],\n",
       "        [ True,  True,  True,  True,  True]],\n",
       "\n",
       "       [[ True,  True,  True,  True,  True],\n",
       "        [ True,  True,  True,  True,  True],\n",
       "        [ True,  True,  True,  True,  True]]])"
      ]
     },
     "execution_count": 33,
     "metadata": {},
     "output_type": "execute_result"
    }
   ],
   "source": [
    "# your code/answer here\n",
    "e == a\n"
   ]
  },
  {
   "cell_type": "markdown",
   "metadata": {},
   "source": [
    "#### 14. Identify the max, min, and mean values in *d*. Assign those values to variables *d_max*, *d_min* and *d_mean*."
   ]
  },
  {
   "cell_type": "code",
   "execution_count": 34,
   "metadata": {},
   "outputs": [
    {
     "name": "stdout",
     "output_type": "stream",
     "text": [
      "1.9976131654478873 1.0017295833793103 1.5474036604263548\n"
     ]
    }
   ],
   "source": [
    "# your code here\n",
    "d_max = np.max(d)\n",
    "d_min = np.min(d)\n",
    "d_mean = np.mean(d)\n",
    "\n",
    "print(d_max, d_min, d_mean)"
   ]
  },
  {
   "cell_type": "markdown",
   "metadata": {},
   "source": [
    "#### 15. Now we want to label the values in *d*. First create an empty array *f* with the same shape (i.e. 2x3x5) as *d* using `np.empty`.\n"
   ]
  },
  {
   "cell_type": "code",
   "execution_count": 37,
   "metadata": {},
   "outputs": [
    {
     "name": "stdout",
     "output_type": "stream",
     "text": [
      "[[[0.63275337 0.70363618 0.36494472 0.08125648 0.00172958]\n",
      "  [0.44532159 0.82984303 0.46424331 0.2819397  0.0308143 ]\n",
      "  [0.3021925  0.97464829 0.81578724 0.85813532 0.44819203]]\n",
      "\n",
      " [[0.31769871 0.98429959 0.05135566 0.80835841 0.14448005]\n",
      "  [0.66215996 0.89519625 0.28636425 0.84386699 0.68933834]\n",
      "  [0.53770407 0.70018298 0.72533817 0.5427156  0.99761317]]]\n"
     ]
    }
   ],
   "source": [
    "# np.empty, based on the last memory\n",
    "f = np.empty((2,3,5,))\n",
    "print(f)"
   ]
  },
  {
   "cell_type": "markdown",
   "metadata": {},
   "source": [
    "#### 16. Populate the values in *f*. \n",
    "\n",
    "For each value in *d*, if it's larger than *d_min* but smaller than *d_mean*, assign 25 to the corresponding value in *f*. If a value in *d* is larger than *d_mean* but smaller than *d_max*, assign 75 to the corresponding value in *f*. If a value equals to *d_mean*, assign 50 to the corresponding value in *f*. Assign 0 to the corresponding value(s) in *f* for *d_min* in *d*. Assign 100 to the corresponding value(s) in *f* for *d_max* in *d*. In the end, f should have only the following values: 0, 25, 50, 75, and 100.\n",
    "\n",
    "**Note**: you don't have to use Numpy in this question."
   ]
  },
  {
   "cell_type": "code",
   "execution_count": 42,
   "metadata": {},
   "outputs": [
    {
     "name": "stdout",
     "output_type": "stream",
     "text": [
      "[[[ 75.  75.  25.  25.   0.]\n",
      "  [ 25.  75.  25.  25.  25.]\n",
      "  [ 25.  75.  75.  75.  25.]]\n",
      "\n",
      " [[ 25.  75.  25.  75.  25.]\n",
      "  [ 75.  75.  25.  75.  75.]\n",
      "  [ 25.  75.  75.  25. 100.]]]\n"
     ]
    }
   ],
   "source": [
    "# your code here\n",
    "f[d==d_max]=100\n",
    "f[d==d_min]=0\n",
    "f[(d>d_min)&(d<d_mean)]=25\n",
    "f[(d>d_mean)&(d<d_max)]=75\n",
    "print(f)\n"
   ]
  },
  {
   "cell_type": "markdown",
   "metadata": {},
   "source": [
    "#### 17. Print *d* and *f*. Do you have your expected *f*?\n",
    "For instance, if your *d* is:\n",
    "```python\n",
    "[[[1.85836099, 1.67064465, 1.62576044, 1.40243961, 1.88454931],\n",
    "[1.75354326, 1.69403643, 1.36729252, 1.61415071, 1.12104981],\n",
    "[1.72201435, 1.1862918 , 1.87078449, 1.7726778 , 1.88180042]],\n",
    "[[1.44747908, 1.31673383, 1.02000951, 1.52218947, 1.97066381],\n",
    "[1.79129243, 1.74983003, 1.96028037, 1.85166831, 1.65450881],\n",
    "[1.18068344, 1.9587381 , 1.00656599, 1.93402165, 1.73514584]]]\n",
    "```\n",
    "Your *f* should be:\n",
    "```python\n",
    "[[[ 75.,  75.,  75.,  25.,  75.],\n",
    "[ 75.,  75.,  25.,  25.,  25.],\n",
    "[ 75.,  25.,  75.,  75.,  75.]],\n",
    "[[ 25.,  25.,  25.,  25., 100.],\n",
    "[ 75.,  75.,  75.,  75.,  75.],\n",
    "[ 25.,  75.,   0.,  75.,  75.]]]\n",
    "```"
   ]
  },
  {
   "cell_type": "code",
   "execution_count": null,
   "metadata": {},
   "outputs": [],
   "source": [
    "# your code here"
   ]
  },
  {
   "cell_type": "markdown",
   "metadata": {},
   "source": [
    "#### 18. Bonus question: instead of using numbers (i.e. 0, 25, 50, 75, and 100), use string values  (\"A\", \"B\", \"C\", \"D\", and \"E\") to label the array elements. For the example above, the expected result is:\n",
    "\n",
    "```python\n",
    "[[[ 'D',  'D',  'D',  'B',  'D'],\n",
    "[ 'D',  'D',  'B',  'B',  'B'],\n",
    "[ 'D',  'B',  'D',  'D',  'D']],\n",
    "[[ 'B',  'B',  'B',  'B',  'E'],\n",
    "[ 'D',  'D',  'D',  'D',  'D'],\n",
    "[ 'B',  'D',   'A',  'D', 'D']]]\n",
    "```\n",
    "**Note**: you don't have to use Numpy in this question."
   ]
  },
  {
   "cell_type": "code",
   "execution_count": 48,
   "metadata": {},
   "outputs": [
    {
     "name": "stdout",
     "output_type": "stream",
     "text": [
      "[[['' '' '' '' '']\n",
      "  ['' '' '' '' '']\n",
      "  ['' '' '' '' '']]\n",
      "\n",
      " [['' '' '' '' '']\n",
      "  ['' '' '' '' '']\n",
      "  ['' '' '' '' '']]]\n",
      "[[['D' 'D' 'B' 'B' 'A']\n",
      "  ['B' 'D' 'B' 'B' 'B']\n",
      "  ['B' 'D' 'D' 'D' 'B']]\n",
      "\n",
      " [['B' 'D' 'B' 'D' 'B']\n",
      "  ['D' 'D' 'B' 'D' 'D']\n",
      "  ['B' 'D' 'D' 'B' 'E']]]\n"
     ]
    }
   ],
   "source": [
    "# Numpy array cannot store different types of values. This Numpy built-in indexing itereates over the values of the arrawy\n",
    "\n",
    "\n",
    "f=np.empty((2,3,5),dtype=str)\n",
    "print(f)\n",
    "f[d==d_max]='E'\n",
    "f[d==d_min]='A'\n",
    "f[(d>d_min)&(d<d_mean)]='B'\n",
    "f[(d>d_mean)&(d<d_max)]='D'\n",
    "\n",
    "print(f)\n"
   ]
  },
  {
   "cell_type": "code",
   "execution_count": 49,
   "metadata": {},
   "outputs": [
    {
     "name": "stdout",
     "output_type": "stream",
     "text": [
      "D\n",
      "D\n",
      "B\n",
      "B\n",
      "A\n",
      "B\n",
      "D\n",
      "B\n",
      "B\n",
      "B\n",
      "B\n",
      "D\n",
      "D\n",
      "D\n",
      "B\n",
      "B\n",
      "D\n",
      "B\n",
      "D\n",
      "B\n",
      "D\n",
      "D\n",
      "B\n",
      "D\n",
      "D\n",
      "B\n",
      "D\n",
      "D\n",
      "B\n",
      "E\n"
     ]
    }
   ],
   "source": [
    "for i in f.flat:\n",
    "    print (i)"
   ]
  },
  {
   "cell_type": "code",
   "execution_count": null,
   "metadata": {},
   "outputs": [],
   "source": []
  }
 ],
 "metadata": {
  "kernelspec": {
   "display_name": "Python 3",
   "language": "python",
   "name": "python3"
  },
  "language_info": {
   "codemirror_mode": {
    "name": "ipython",
    "version": 3
   },
   "file_extension": ".py",
   "mimetype": "text/x-python",
   "name": "python",
   "nbconvert_exporter": "python",
   "pygments_lexer": "ipython3",
   "version": "3.8.5"
  }
 },
 "nbformat": 4,
 "nbformat_minor": 2
}
